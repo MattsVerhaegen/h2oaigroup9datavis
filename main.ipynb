{
 "cells": [
  {
   "cell_type": "markdown",
   "metadata": {},
   "source": [
    "Add all necessary imports for your script.\n",
    "sqlite3 for importing the db file and H2OGeneralizedLinearEstimator for using linear regression"
   ]
  },
  {
   "cell_type": "code",
   "execution_count": null,
   "metadata": {},
   "outputs": [],
   "source": [
    "import sqlite3\n",
    "import pandas as pd\n",
    "import h2o\n",
    "from h2o.estimators import H2OGeneralizedLinearEstimator\n",
    "import matplotlib.pyplot as plt"
   ]
  },
  {
   "cell_type": "markdown",
   "metadata": {},
   "source": [
    "This code is used to initialize our H2O cluster so we can use its functionalities"
   ]
  },
  {
   "cell_type": "code",
   "execution_count": null,
   "metadata": {},
   "outputs": [],
   "source": [
    "# Start H2O instance\n",
    "h2o.init()"
   ]
  },
  {
   "cell_type": "markdown",
   "metadata": {},
   "source": [
    "Here we connect to our data file database_datavis.db using SQLite3 database"
   ]
  },
  {
   "cell_type": "code",
   "execution_count": null,
   "metadata": {},
   "outputs": [],
   "source": [
    "# Connect to database file\n",
    "data = sqlite3.connect(\"database_datavis.db\")"
   ]
  },
  {
   "cell_type": "markdown",
   "metadata": {},
   "source": [
    "This code writes the query to get our data out of the database"
   ]
  },
  {
   "cell_type": "code",
   "execution_count": null,
   "metadata": {},
   "outputs": [],
   "source": [
    "# Query the table\n",
    "emissions_query = \"SELECT * FROM emissions\""
   ]
  },
  {
   "cell_type": "markdown",
   "metadata": {},
   "source": [
    "Here we load the data in an variable so we can begin working with the data "
   ]
  },
  {
   "cell_type": "code",
   "execution_count": null,
   "metadata": {},
   "outputs": [],
   "source": [
    "# Load data into DataFrames\n",
    "emissions = pd.read_sql_query(emissions_query, data)"
   ]
  },
  {
   "cell_type": "markdown",
   "metadata": {},
   "source": [
    "We don't need anything anymore from the database so we disconnect from it"
   ]
  },
  {
   "cell_type": "code",
   "execution_count": null,
   "metadata": {},
   "outputs": [],
   "source": [
    "# Close the connection\n",
    "data.close()"
   ]
  },
  {
   "cell_type": "markdown",
   "metadata": {},
   "source": [
    "We have a date column but it would be better to only have the year stores so it is easier to read. So we first convert the column to a datetime column. If it cannot be converted to datetime then it will be set to NaT because we had some problems with it before the coerce addition. Lastly we substract the year from the date column and make a new column with it."
   ]
  },
  {
   "cell_type": "code",
   "execution_count": null,
   "metadata": {},
   "outputs": [],
   "source": [
    "# Create a year column \n",
    "emissions = emissions[pd.to_datetime(emissions['Date'], format='%d-%m-%Y', errors='coerce').notnull()]\n",
    "emissions['Year'] = pd.to_datetime(emissions['Date']).dt.year"
   ]
  },
  {
   "cell_type": "markdown",
   "metadata": {},
   "source": [
    "Here we are calculating the mean of the metric tons per capita of emissions. We group by year so we can see the average of the world each year."
   ]
  },
  {
   "cell_type": "code",
   "execution_count": null,
   "metadata": {},
   "outputs": [],
   "source": [
    "# Calculate mean CO2 emissions per year\n",
    "mean_emissions = emissions.groupby('Year')['Metric_Tons_Per_Capita'].mean().reset_index()"
   ]
  },
  {
   "cell_type": "markdown",
   "metadata": {},
   "source": [
    "Here we convert our data to a h2o dataframe so we can use the h2o algorithms"
   ]
  },
  {
   "cell_type": "code",
   "execution_count": null,
   "metadata": {},
   "outputs": [],
   "source": [
    "# Convert the dataframe to H2O frame\n",
    "h2o_df = h2o.H2OFrame(emissions)"
   ]
  },
  {
   "cell_type": "markdown",
   "metadata": {},
   "source": [
    "y is the column which we want to predict and x is the colum that contains the features used to make the predictions"
   ]
  },
  {
   "cell_type": "code",
   "execution_count": null,
   "metadata": {},
   "outputs": [],
   "source": [
    "# Specify the response and predictor variables\n",
    "y = 'Metric_Tons_Per_Capita'\n",
    "x = ['Year']"
   ]
  },
  {
   "cell_type": "markdown",
   "metadata": {},
   "source": [
    "Here we actually train the model with linear regression"
   ]
  },
  {
   "cell_type": "code",
   "execution_count": null,
   "metadata": {},
   "outputs": [],
   "source": [
    "# Train the model using H2O Linear Regression\n",
    "prediction_model = H2OGeneralizedLinearEstimator()\n",
    "prediction_model.train(x=x, y=y, training_frame=h2o_df)"
   ]
  },
  {
   "cell_type": "markdown",
   "metadata": {},
   "source": [
    "We can check the performance of the prediction model with this function"
   ]
  },
  {
   "cell_type": "code",
   "execution_count": null,
   "metadata": {},
   "outputs": [],
   "source": [
    "# View the model performance\n",
    "performance = prediction_model.model_performance()\n",
    "print(performance)"
   ]
  },
  {
   "cell_type": "markdown",
   "metadata": {},
   "source": [
    "Here we make a list with all the years that need to be predicted"
   ]
  },
  {
   "cell_type": "code",
   "execution_count": null,
   "metadata": {},
   "outputs": [],
   "source": [
    "# Predict future CO2 emissions for year 2020 to 2040\n",
    "future_years = pd.DataFrame({'Year': range(2020, 2041)})\n",
    "future_predictions = []"
   ]
  },
  {
   "cell_type": "markdown",
   "metadata": {},
   "source": [
    "With this code we predict future CO2 emissions for each year listed in future_years. We also put the new column in variable called future_predictions"
   ]
  },
  {
   "cell_type": "code",
   "execution_count": null,
   "metadata": {},
   "outputs": [],
   "source": [
    "# Predict for every year in future years\n",
    "for year in future_years['Year']:\n",
    "    future_year_df = pd.DataFrame({'Year': [year]})\n",
    "    future_h2o_df = h2o.H2OFrame(future_year_df)\n",
    "    prediction = prediction_model.predict(future_h2o_df)\n",
    "    future_predictions.append(prediction.as_data_frame().iloc[0, 0])\n",
    "\n",
    "future_years['Predicted_CO2_Emissions'] = future_predictions"
   ]
  },
  {
   "cell_type": "markdown",
   "metadata": {},
   "source": [
    "Finally we plot the whole data and prediction to show our results."
   ]
  },
  {
   "cell_type": "code",
   "execution_count": null,
   "metadata": {},
   "outputs": [],
   "source": [
    "# Plot the historical and predicted CO2 emissions\n",
    "plt.figure(figsize=(10, 6))\n",
    "plt.plot(mean_emissions['Year'], mean_emissions['Metric_Tons_Per_Capita'], label='Historical CO2 Emissions')\n",
    "plt.plot(future_years['Year'], future_years['Predicted_CO2_Emissions'], label='Predicted CO2 Emissions', linestyle='--')\n",
    "plt.xlabel('Year')\n",
    "plt.ylabel('CO2 Emissions')\n",
    "plt.title('Historical and Predicted CO2 Emissions')\n",
    "plt.legend()\n",
    "plt.show()"
   ]
  },
  {
   "cell_type": "markdown",
   "metadata": {},
   "source": [
    "Lastly we shutdown the h2o cluster"
   ]
  },
  {
   "cell_type": "code",
   "execution_count": null,
   "metadata": {},
   "outputs": [],
   "source": [
    "h2o.shutdown()"
   ]
  }
 ],
 "metadata": {
  "kernelspec": {
   "display_name": "venv",
   "language": "python",
   "name": "python3"
  },
  "language_info": {
   "name": "python",
   "version": "3.11.0"
  }
 },
 "nbformat": 4,
 "nbformat_minor": 2
}
